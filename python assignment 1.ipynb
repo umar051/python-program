{
 "cells": [
  {
   "cell_type": "code",
   "execution_count": 1,
   "id": "06baf10a",
   "metadata": {},
   "outputs": [
    {
     "name": "stdout",
     "output_type": "stream",
     "text": [
      "Twinkle twinkle,little star,\n",
      "\tHow i wonder what you are!\n",
      "\t\tUp above the world so high\n",
      "\t\tLike a diamond in the sky\n",
      "Twinkle twinkle,little star,\n",
      "\tHow i wonder what you are\n"
     ]
    }
   ],
   "source": [
    "print(\"Twinkle twinkle,little star,\")\n",
    "print('\\t'\"How i wonder what you are!\")\n",
    "print('\\t\\t'\"Up above the world so high\")\n",
    "print('\\t\\t'\"Like a diamond in the sky\")\n",
    "print(\"Twinkle twinkle,little star,\")\n",
    "print('\\t'\"How i wonder what you are\")\n"
   ]
  },
  {
   "cell_type": "code",
   "execution_count": 2,
   "id": "0b6b7769",
   "metadata": {},
   "outputs": [
    {
     "name": "stdout",
     "output_type": "stream",
     "text": [
      " python version 3.9.6\n"
     ]
    }
   ],
   "source": [
    "print(\" python version 3.9.6\")\n"
   ]
  },
  {
   "cell_type": "code",
   "execution_count": 3,
   "id": "5a8582f2",
   "metadata": {},
   "outputs": [
    {
     "name": "stdout",
     "output_type": "stream",
     "text": [
      "Date: 1/1/2022 Time: 11:51\n"
     ]
    }
   ],
   "source": [
    "print(\"Date: 1/1/2022 Time: 11:51\")\n"
   ]
  },
  {
   "cell_type": "code",
   "execution_count": 3,
   "id": "e6311d67",
   "metadata": {},
   "outputs": [
    {
     "name": "stdout",
     "output_type": "stream",
     "text": [
      "radius of circle 3\n",
      "Area of circle is 28.278\n"
     ]
    }
   ],
   "source": [
    "r= float(input(\"radius of circle \"))\n",
    "pi= 3.142\n",
    "a= pi*r**2\n",
    "print(\"Area of circle is\", a)"
   ]
  },
  {
   "cell_type": "code",
   "execution_count": 5,
   "id": "a18d5dee",
   "metadata": {},
   "outputs": [
    {
     "name": "stdout",
     "output_type": "stream",
     "text": [
      "first name: umer\n",
      "last name: farid\n",
      "NAME: farid  umer\n"
     ]
    }
   ],
   "source": [
    "fn= input( \"first name: \")\n",
    "ln= input( \"last name: \")\n",
    "print (\"NAME:\", ln,\"\",fn)"
   ]
  },
  {
   "cell_type": "code",
   "execution_count": 1,
   "id": "38f00e93",
   "metadata": {
    "collapsed": true
   },
   "outputs": [
    {
     "name": "stdout",
     "output_type": "stream",
     "text": [
      "first number: 45\n",
      "second number: 33\n",
      "4533\n"
     ]
    }
   ],
   "source": [
    "fi= input(\"first number: \")\n",
    "si= input(\"second number: \")\n",
    "print(fi+si\n",
    "      "
   ]
  }
 ],
 "metadata": {
  "kernelspec": {
   "display_name": "Python 3 (ipykernel)",
   "language": "python",
   "name": "python3"
  },
  "language_info": {
   "codemirror_mode": {
    "name": "ipython",
    "version": 3
   },
   "file_extension": ".py",
   "mimetype": "text/x-python",
   "name": "python",
   "nbconvert_exporter": "python",
   "pygments_lexer": "ipython3",
   "version": "3.9.7"
  }
 },
 "nbformat": 4,
 "nbformat_minor": 5
}
